{
  "nbformat": 4,
  "nbformat_minor": 0,
  "metadata": {
    "colab": {
      "provenance": [],
      "collapsed_sections": [
        "J62Ed6jNukYW",
        "YKHL6-D5uoBT",
        "i6Nu9YMGupE_",
        "Hk9ttrymuqs3",
        "SW4mMVLhusW9",
        "CHgH7IzeuuIq",
        "ChHFW26RrnSv",
        "D_x7H1Zarp_c",
        "hqs9W479ryDx"
      ]
    },
    "kernelspec": {
      "name": "python3",
      "display_name": "Python 3"
    },
    "language_info": {
      "name": "python"
    }
  },
  "cells": [
    {
      "cell_type": "markdown",
      "source": [
        "## Natural Language to SQL using Google's Gemini Pro | Python | Google AI Studio\n",
        "\n",
        "[**Link to my YouTube Channel**](https://www.youtube.com/BhaveshBhatt8791?sub_confirmation=1)\n",
        "\n",
        "Click on the link below to open a Colab version of the notebook. You will be able to create your own version."
      ],
      "metadata": {
        "id": "g1va5YGucMBr"
      }
    },
    {
      "cell_type": "markdown",
      "source": [
        "<a href=\"https://colab.research.google.com/github/bhattbhavesh91/n2sql-google-gemini/blob/main/n2sql-google-gemini-notebook.ipynb\" target=\"_blank\"><img height=\"40\" alt=\"Run your own notebook in Colab\" src = \"https://colab.research.google.com/assets/colab-badge.svg\"></a>"
      ],
      "metadata": {
        "id": "ZpFI4r4VcRsN"
      }
    },
    {
      "cell_type": "markdown",
      "source": [
        "# Installation"
      ],
      "metadata": {
        "id": "J62Ed6jNukYW"
      }
    },
    {
      "cell_type": "code",
      "source": [
        "!pip install -q google-generativeai==0.3.1"
      ],
      "metadata": {
        "id": "CmIAwGt-ko5i"
      },
      "execution_count": null,
      "outputs": []
    },
    {
      "cell_type": "markdown",
      "source": [
        "# Imports"
      ],
      "metadata": {
        "id": "YKHL6-D5uoBT"
      }
    },
    {
      "cell_type": "code",
      "source": [
        "import google.generativeai as genai\n",
        "from pathlib import Path\n",
        "import sqlite3"
      ],
      "metadata": {
        "id": "Ad7x23Khq65P"
      },
      "execution_count": null,
      "outputs": []
    },
    {
      "cell_type": "markdown",
      "source": [
        "# Version"
      ],
      "metadata": {
        "id": "i6Nu9YMGupE_"
      }
    },
    {
      "cell_type": "code",
      "source": [
        "genai.__version__"
      ],
      "metadata": {
        "id": "HFVBV3vAqUQS",
        "colab": {
          "base_uri": "https://localhost:8080/",
          "height": 35
        },
        "outputId": "45a7ff87-97e2-4cac-fcda-efc65d4b57a6"
      },
      "execution_count": null,
      "outputs": [
        {
          "output_type": "execute_result",
          "data": {
            "text/plain": [
              "'0.3.1'"
            ],
            "application/vnd.google.colaboratory.intrinsic+json": {
              "type": "string"
            }
          },
          "metadata": {},
          "execution_count": 3
        }
      ]
    },
    {
      "cell_type": "markdown",
      "source": [
        "# Secret Key"
      ],
      "metadata": {
        "id": "Hk9ttrymuqs3"
      }
    },
    {
      "cell_type": "code",
      "source": [
        "from google.colab import userdata\n",
        "\n",
        "genai.configure(api_key = userdata.get('GEMINI_KEY'))"
      ],
      "metadata": {
        "id": "Hiho5AC_l-rl"
      },
      "execution_count": null,
      "outputs": []
    },
    {
      "cell_type": "markdown",
      "source": [
        "# Configurations"
      ],
      "metadata": {
        "id": "SW4mMVLhusW9"
      }
    },
    {
      "cell_type": "code",
      "source": [
        "# Set up the model\n",
        "generation_config = {\n",
        "  \"temperature\": 0.4,\n",
        "  \"top_p\": 1,\n",
        "  \"top_k\": 32,\n",
        "  \"max_output_tokens\": 4096,\n",
        "}\n",
        "\n",
        "safety_settings = [\n",
        "  {\n",
        "    \"category\": \"HARM_CATEGORY_HARASSMENT\",\n",
        "    \"threshold\": \"BLOCK_MEDIUM_AND_ABOVE\"\n",
        "  },\n",
        "  {\n",
        "    \"category\": \"HARM_CATEGORY_HATE_SPEECH\",\n",
        "    \"threshold\": \"BLOCK_MEDIUM_AND_ABOVE\"\n",
        "  },\n",
        "  {\n",
        "    \"category\": \"HARM_CATEGORY_SEXUALLY_EXPLICIT\",\n",
        "    \"threshold\": \"BLOCK_MEDIUM_AND_ABOVE\"\n",
        "  },\n",
        "  {\n",
        "    \"category\": \"HARM_CATEGORY_DANGEROUS_CONTENT\",\n",
        "    \"threshold\": \"BLOCK_MEDIUM_AND_ABOVE\"\n",
        "  }\n",
        "]"
      ],
      "metadata": {
        "id": "ZJr0xFY0Yosd"
      },
      "execution_count": null,
      "outputs": []
    },
    {
      "cell_type": "markdown",
      "source": [
        "# Model Instance"
      ],
      "metadata": {
        "id": "CHgH7IzeuuIq"
      }
    },
    {
      "cell_type": "code",
      "source": [
        "model = genai.GenerativeModel(model_name = \"gemini-pro\",\n",
        "                              generation_config = generation_config,\n",
        "                              safety_settings = safety_settings)"
      ],
      "metadata": {
        "id": "TcTI_tbDmQc-"
      },
      "execution_count": null,
      "outputs": []
    },
    {
      "cell_type": "markdown",
      "source": [
        "# SQL Query Executor"
      ],
      "metadata": {
        "id": "ChHFW26RrnSv"
      }
    },
    {
      "cell_type": "code",
      "source": [
        "def read_sql_query(sql, db):\n",
        "    conn = sqlite3.connect(db)\n",
        "    cur = conn.cursor()\n",
        "    cur.execute(sql)\n",
        "    rows = cur.fetchall()\n",
        "    for row in rows:\n",
        "        print(row)\n",
        "    conn.close()"
      ],
      "metadata": {
        "id": "kkmqIjJw67fn"
      },
      "execution_count": null,
      "outputs": []
    },
    {
      "cell_type": "code",
      "source": [
        "read_sql_query('SELECT * FROM fashion_products LIMIT 10;',\n",
        "               \"fashion_db.sqlite\")"
      ],
      "metadata": {
        "id": "Ll2MVzJj7BFM",
        "colab": {
          "base_uri": "https://localhost:8080/"
        },
        "outputId": "d8148e40-b25f-4cad-f717-4e2025aae296"
      },
      "execution_count": null,
      "outputs": [
        {
          "output_type": "stream",
          "name": "stdout",
          "text": [
            "(19, 1, 'Dress', 'Adidas', \"Men's Fashion\", 40, 1.0431592108361825, 'Black', 'XL')\n",
            "(97, 2, 'Shoes', 'H&M', \"Women's Fashion\", 82, 4.026416271141911, 'Black', 'L')\n",
            "(25, 3, 'Dress', 'Adidas', \"Women's Fashion\", 44, 3.337937559377053, 'Yellow', 'XL')\n",
            "(57, 4, 'Shoes', 'Zara', \"Men's Fashion\", 23, 1.0495229563128543, 'White', 'S')\n",
            "(79, 5, 'T-shirt', 'Adidas', \"Men's Fashion\", 79, 4.302773408398684, 'Black', 'M')\n",
            "(98, 6, 'Dress', 'Adidas', \"Men's Fashion\", 47, 1.3795657395330458, 'Yellow', 'L')\n",
            "(16, 7, 'Jeans', 'Gucci', \"Men's Fashion\", 37, 1.3567503746842564, 'White', 'XL')\n",
            "(63, 8, 'Sweater', 'Zara', \"Kids' Fashion\", 64, 4.36030328941572, 'Blue', 'XL')\n",
            "(96, 9, 'Sweater', 'H&M', \"Men's Fashion\", 53, 4.466181876278437, 'Green', 'XL')\n",
            "(36, 10, 'T-shirt', 'Zara', \"Kids' Fashion\", 55, 4.093234402033421, 'White', 'XL')\n"
          ]
        }
      ]
    },
    {
      "cell_type": "markdown",
      "source": [
        "# Define Prompt"
      ],
      "metadata": {
        "id": "D_x7H1Zarp_c"
      }
    },
    {
      "cell_type": "code",
      "source": [
        "prompt_parts_1 = [\n",
        "  \"You are an expert in converting English questions to SQL code! The SQL database has the name fashion_products and has the following columns - user_id, product_id, product_name, brand, category, price, color, and size.\\n\\nFor example,\\nExample 1 - How many entries of Adidas are present?, the SQL command will be something like this\\n``` SELECT COUNT(*) FROM fashion_products WHERE brand = 'Adidas';\\n```\\n\\nExample 2 - How many XL products of Nike are there that have a rating of more than 4?\\n```\\nSELECT COUNT(*) FROM fashion_products WHERE brand = 'Nike' AND size = 'XL' AND \\\"Rating\\\" > 4;\\n```\\n\\nExample 3 - \\n```\\nSELECT product_name FROM fashion_products WHERE price = (SELECT MAX(price) FROM fashion_products);\\n```\\n\\nDont include ``` and \\\\n in the output\",\n",
        "]"
      ],
      "metadata": {
        "id": "9HCW5Rem67k2"
      },
      "execution_count": null,
      "outputs": []
    },
    {
      "cell_type": "code",
      "source": [
        "question = \"Tell me the id of the most expensive T-shirt?\""
      ],
      "metadata": {
        "id": "5EL8iH2m7HT5"
      },
      "execution_count": null,
      "outputs": []
    },
    {
      "cell_type": "code",
      "source": [
        "prompt_parts = [prompt_parts_1[0], question]\n",
        "response = model.generate_content(prompt_parts)\n",
        "response.text"
      ],
      "metadata": {
        "id": "LjHWGGZo7HWl",
        "colab": {
          "base_uri": "https://localhost:8080/",
          "height": 52
        },
        "outputId": "d1615d4a-c1d5-4c7f-9bd1-23ea356e5c29"
      },
      "execution_count": null,
      "outputs": [
        {
          "output_type": "execute_result",
          "data": {
            "text/plain": [
              "\"SELECT product_id FROM fashion_products WHERE product_name = 'T-shirt' AND price = (SELECT MAX(price) FROM fashion_products WHERE product_name = 'T-shirt');\""
            ],
            "application/vnd.google.colaboratory.intrinsic+json": {
              "type": "string"
            }
          },
          "metadata": {},
          "execution_count": 11
        }
      ]
    },
    {
      "cell_type": "code",
      "source": [
        "read_sql_query(\"\"\"SELECT product_id FROM fashion_products WHERE product_name = 'T-shirt' AND price = (SELECT MAX(price) FROM fashion_products WHERE product_name = 'T-shirt');\n",
        "\"\"\",\n",
        "               \"fashion_db.sqlite\")"
      ],
      "metadata": {
        "id": "7Z3soRRD7inu",
        "colab": {
          "base_uri": "https://localhost:8080/"
        },
        "outputId": "63b59e37-3fc9-4a4d-eb2c-2c6d86f6ffa2"
      },
      "execution_count": null,
      "outputs": [
        {
          "output_type": "stream",
          "name": "stdout",
          "text": [
            "(938,)\n"
          ]
        }
      ]
    },
    {
      "cell_type": "markdown",
      "source": [
        "# Combine it into Function"
      ],
      "metadata": {
        "id": "hqs9W479ryDx"
      }
    },
    {
      "cell_type": "code",
      "source": [
        "def generate_gemini_response(question, input_prompt):\n",
        "    prompt_parts = [input_prompt, question]\n",
        "    response = model.generate_content(prompt_parts)\n",
        "    output = read_sql_query(response.text, \"fashion_db.sqlite\")\n",
        "    return output"
      ],
      "metadata": {
        "id": "HilHC9fx7x53"
      },
      "execution_count": null,
      "outputs": []
    },
    {
      "cell_type": "code",
      "source": [
        "generate_gemini_response(\"How many products of Nike are there?\",\n",
        "                         prompt_parts_1[0])"
      ],
      "metadata": {
        "id": "RvIpKa3G8Hln",
        "colab": {
          "base_uri": "https://localhost:8080/",
          "height": 34
        },
        "outputId": "bf840785-ae83-47de-d4bb-5e84a519c4fa"
      },
      "execution_count": null,
      "outputs": [
        {
          "output_type": "stream",
          "name": "stdout",
          "text": [
            "(214,)\n"
          ]
        }
      ]
    },
    {
      "cell_type": "code",
      "source": [],
      "metadata": {
        "id": "9TRzDLNF8lyl"
      },
      "execution_count": null,
      "outputs": []
    },
    {
      "cell_type": "code",
      "source": [],
      "metadata": {
        "id": "khc_6v2G8l1b"
      },
      "execution_count": null,
      "outputs": []
    },
    {
      "cell_type": "code",
      "source": [],
      "metadata": {
        "id": "8pcZiMsx1tUM"
      },
      "execution_count": null,
      "outputs": []
    }
  ]
}